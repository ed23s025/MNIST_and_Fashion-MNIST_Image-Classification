{
 "cells": [
  {
   "cell_type": "code",
   "execution_count": 66,
   "id": "a8089adf-e8ac-4e93-a4f6-0d20d61c50eb",
   "metadata": {},
   "outputs": [],
   "source": [
    "import pandas as pd\n",
    "import tensorflow as tf\n",
    "from keras.datasets import fashion_mnist\n",
    "from tensorflow.keras.datasets import mnist\n",
    "import matplotlib.pyplot as plt\n",
    "from sklearn.model_selection import train_test_split\n",
    "import math\n",
    "import seaborn as sns\n",
    "from sklearn.metrics import confusion_matrix\n",
    "import copy\n",
    "import torch\n",
    "import torch.nn as nn\n",
    "from torchvision import transforms\n",
    "from torch.utils.data import DataLoader\n",
    "from PIL import Image\n",
    "import numpy as np\n",
    "from torch.utils.data import TensorDataset\n",
    "from torch import optim\n",
    "from tqdm import tqdm\n",
    "import torch.nn.functional as F"
   ]
  },
  {
   "cell_type": "code",
   "execution_count": 2,
   "id": "1b2b0e3c-3009-4d63-a3c1-72349b0c837f",
   "metadata": {},
   "outputs": [],
   "source": [
    "device = 'cuda'"
   ]
  },
  {
   "cell_type": "code",
   "execution_count": 3,
   "id": "c65bc123-9514-492b-b64b-30a50916a763",
   "metadata": {},
   "outputs": [],
   "source": [
    "'''LOADING TRAIN AND TEST DATA SET'''\n",
    "(x_train,y_train),(x_test,y_test) = fashion_mnist.load_data()"
   ]
  },
  {
   "cell_type": "code",
   "execution_count": 4,
   "id": "28ac8f40-a033-4440-8def-6d1cbda92d85",
   "metadata": {},
   "outputs": [
    {
     "name": "stdout",
     "output_type": "stream",
     "text": [
      "(60000, 28, 28)\n",
      "(60000,)\n",
      "(10000, 28, 28)\n",
      "(10000,)\n"
     ]
    }
   ],
   "source": [
    "print(x_train.shape)\n",
    "print(y_train.shape)\n",
    "print(x_test.shape)\n",
    "print(y_test.shape)"
   ]
  },
  {
   "cell_type": "code",
   "execution_count": 5,
   "id": "7946f22f-fc9a-4218-b061-2be7989edbad",
   "metadata": {
    "scrolled": true
   },
   "outputs": [
    {
     "name": "stdout",
     "output_type": "stream",
     "text": [
      "[[  0   0   0   0   0   0   0   0   0   0   0   0   0   0   0   0   0   0\n",
      "    0   0   0   0   0   0   0   0   0   0]\n",
      " [  0   0   0   0   0   0   0   0   0   0   0   0   0   0   0   0   0   0\n",
      "    0   0   0   0   0   0   0   0   0   0]\n",
      " [  0   0   0   0   0   0   0   0   0   0   0   0   0   0   0   0   0   0\n",
      "    0   0   0   0   0   0   0   0   0   0]\n",
      " [  0   0   0   0   0   0   0   0   0   0   0   0   1   0   0  13  73   0\n",
      "    0   1   4   0   0   0   0   1   1   0]\n",
      " [  0   0   0   0   0   0   0   0   0   0   0   0   3   0  36 136 127  62\n",
      "   54   0   0   0   1   3   4   0   0   3]\n",
      " [  0   0   0   0   0   0   0   0   0   0   0   0   6   0 102 204 176 134\n",
      "  144 123  23   0   0   0   0  12  10   0]\n",
      " [  0   0   0   0   0   0   0   0   0   0   0   0   0   0 155 236 207 178\n",
      "  107 156 161 109  64  23  77 130  72  15]\n",
      " [  0   0   0   0   0   0   0   0   0   0   0   1   0  69 207 223 218 216\n",
      "  216 163 127 121 122 146 141  88 172  66]\n",
      " [  0   0   0   0   0   0   0   0   0   1   1   1   0 200 232 232 233 229\n",
      "  223 223 215 213 164 127 123 196 229   0]\n",
      " [  0   0   0   0   0   0   0   0   0   0   0   0   0 183 225 216 223 228\n",
      "  235 227 224 222 224 221 223 245 173   0]\n",
      " [  0   0   0   0   0   0   0   0   0   0   0   0   0 193 228 218 213 198\n",
      "  180 212 210 211 213 223 220 243 202   0]\n",
      " [  0   0   0   0   0   0   0   0   0   1   3   0  12 219 220 212 218 192\n",
      "  169 227 208 218 224 212 226 197 209  52]\n",
      " [  0   0   0   0   0   0   0   0   0   0   6   0  99 244 222 220 218 203\n",
      "  198 221 215 213 222 220 245 119 167  56]\n",
      " [  0   0   0   0   0   0   0   0   0   4   0   0  55 236 228 230 228 240\n",
      "  232 213 218 223 234 217 217 209  92   0]\n",
      " [  0   0   1   4   6   7   2   0   0   0   0   0 237 226 217 223 222 219\n",
      "  222 221 216 223 229 215 218 255  77   0]\n",
      " [  0   3   0   0   0   0   0   0   0  62 145 204 228 207 213 221 218 208\n",
      "  211 218 224 223 219 215 224 244 159   0]\n",
      " [  0   0   0   0  18  44  82 107 189 228 220 222 217 226 200 205 211 230\n",
      "  224 234 176 188 250 248 233 238 215   0]\n",
      " [  0  57 187 208 224 221 224 208 204 214 208 209 200 159 245 193 206 223\n",
      "  255 255 221 234 221 211 220 232 246   0]\n",
      " [  3 202 228 224 221 211 211 214 205 205 205 220 240  80 150 255 229 221\n",
      "  188 154 191 210 204 209 222 228 225   0]\n",
      " [ 98 233 198 210 222 229 229 234 249 220 194 215 217 241  65  73 106 117\n",
      "  168 219 221 215 217 223 223 224 229  29]\n",
      " [ 75 204 212 204 193 205 211 225 216 185 197 206 198 213 240 195 227 245\n",
      "  239 223 218 212 209 222 220 221 230  67]\n",
      " [ 48 203 183 194 213 197 185 190 194 192 202 214 219 221 220 236 225 216\n",
      "  199 206 186 181 177 172 181 205 206 115]\n",
      " [  0 122 219 193 179 171 183 196 204 210 213 207 211 210 200 196 194 191\n",
      "  195 191 198 192 176 156 167 177 210  92]\n",
      " [  0   0  74 189 212 191 175 172 175 181 185 188 189 188 193 198 204 209\n",
      "  210 210 211 188 188 194 192 216 170   0]\n",
      " [  2   0   0   0  66 200 222 237 239 242 246 243 244 221 220 193 191 179\n",
      "  182 182 181 176 166 168  99  58   0   0]\n",
      " [  0   0   0   0   0   0   0  40  61  44  72  41  35   0   0   0   0   0\n",
      "    0   0   0   0   0   0   0   0   0   0]\n",
      " [  0   0   0   0   0   0   0   0   0   0   0   0   0   0   0   0   0   0\n",
      "    0   0   0   0   0   0   0   0   0   0]\n",
      " [  0   0   0   0   0   0   0   0   0   0   0   0   0   0   0   0   0   0\n",
      "    0   0   0   0   0   0   0   0   0   0]]\n"
     ]
    }
   ],
   "source": [
    "print(x_train[0]) #The values are between 0 and 255(un-normalized)"
   ]
  },
  {
   "cell_type": "code",
   "execution_count": 6,
   "id": "d627394c-cdad-4ab3-a1cf-b17c7f8b13d9",
   "metadata": {},
   "outputs": [
    {
     "name": "stdout",
     "output_type": "stream",
     "text": [
      "The various categorical variables in the data are : ['T-shirt', 'Trouser', 'Pullover', 'Skirt', 'Overcoat', 'Sandal', 'Shirt', 'Sneakers', 'Bag', 'Ankle boot']\n"
     ]
    }
   ],
   "source": [
    "'''Finding image of each category'''\n",
    "categories=[]\n",
    "images_list=[]\n",
    "attributes={0:'T-shirt',1:'Trouser',2:'Pullover',3:'Skirt',4:'Overcoat',5:'Sandal',\n",
    "            6:'Shirt',7:'Sneakers',8:'Bag',9:'Ankle boot'}\n",
    "title=list(attributes.values())\n",
    "print(f'The various categorical variables in the data are : {title}')\n",
    "for i in range(10):\n",
    "    categories.append(i)\n",
    "for i in range(y_train.shape[0]):\n",
    "               if y_train[i]==categories[0]:\n",
    "                    images_list.append(x_train[i])\n",
    "                    del(categories[0])\n",
    "                    if len(categories)==0:\n",
    "                        break"
   ]
  },
  {
   "cell_type": "code",
   "execution_count": 7,
   "id": "54605efa-ffc7-4efe-9aa8-7e4d987cea6b",
   "metadata": {
    "scrolled": true
   },
   "outputs": [
    {
     "data": {
      "image/png": "[encoded data removed]",
      "text/plain": [
       "<Figure size 1500x150 with 10 Axes>"
      ]
     },
     "metadata": {},
     "output_type": "display_data"
    }
   ],
   "source": [
    "'''Displaying one image per category'''\n",
    "fig, axes = plt.subplots(nrows=1, ncols=10, figsize=(15, 1.5))\n",
    "for i, (ax, image) in enumerate(zip(axes, images_list)):\n",
    "    ax.imshow(image, cmap='gray')\n",
    "    ax.set_title(title[i], fontsize=8)\n",
    "    ax.axis('off')\n",
    "plt.show()"
   ]
  },
  {
   "cell_type": "code",
   "execution_count": 8,
   "id": "c8a515de-e028-4fc0-89f2-ae1c13a028f2",
   "metadata": {},
   "outputs": [],
   "source": [
    "'''\n",
    "We have to convert the ndarray images into PIL images to apply the torchvision.transforms\n",
    "'''\n",
    "x_train_pil = [Image.fromarray((image).astype('uint8')) for image in x_train]\n",
    "x_test_pil = [Image.fromarray((image).astype('uint8')) for image in x_test]"
   ]
  },
  {
   "cell_type": "code",
   "execution_count": 9,
   "id": "a0613166-fe25-49aa-bdd9-e87a97d61780",
   "metadata": {},
   "outputs": [],
   "source": [
    "'''\n",
    "Data Augmentation : Flipping is performed with a 50% probability\n",
    "                    Rotation is done between -15 and 15 degrees\n",
    "'''\n",
    "\n",
    "train_transform = transforms.Compose([\n",
    "    transforms.RandomHorizontalFlip(),\n",
    "    transforms.RandomVerticalFlip(),\n",
    "    transforms.ToTensor(),\n",
    "    transforms.Normalize((0.5,), (0.5,)),\n",
    "    transforms.Lambda(lambda x: x + 0.1 * torch.randn_like(x)),\n",
    "    transforms.RandomRotation(15)  # Randomly rotates the image by ±15 degrees\n",
    "])\n",
    "\n",
    "test_transform = transforms.Compose([\n",
    "    \n",
    "    transforms.ToTensor(),\n",
    "    transforms.Normalize((0.5,), (0.5,)),\n",
    "])\n"
   ]
  },
  {
   "cell_type": "code",
   "execution_count": 10,
   "id": "51d0078a-a2bf-45fa-a18e-49fdb27c42c4",
   "metadata": {},
   "outputs": [],
   "source": [
    "'''Creating tensor datasets using the pre-defined transforms for train and test'''\n",
    "x_train = [train_transform(image) for image in x_train_pil]\n",
    "x_test = [test_transform(image) for image in x_test_pil]"
   ]
  },
  {
   "cell_type": "code",
   "execution_count": 11,
   "id": "44feeeac-d1e9-4cc6-9a47-0c54489dfb72",
   "metadata": {},
   "outputs": [],
   "source": [
    "x_train = torch.stack(x_train)\n",
    "x_test = torch.stack(x_test)"
   ]
  },
  {
   "cell_type": "code",
   "execution_count": 15,
   "id": "ba06bf65-3c2c-40a8-9354-19975ddd43be",
   "metadata": {},
   "outputs": [],
   "source": [
    "y_train = torch.tensor(y_train)\n",
    "y_test = torch.tensor(y_test)"
   ]
  },
  {
   "cell_type": "code",
   "execution_count": 16,
   "id": "10b93321-77db-4fbd-acb3-0fd97186b0e4",
   "metadata": {},
   "outputs": [
    {
     "name": "stdout",
     "output_type": "stream",
     "text": [
      "torch.Size([60000, 1, 28, 28])\n"
     ]
    }
   ],
   "source": [
    "print(x_train.shape)"
   ]
  },
  {
   "cell_type": "code",
   "execution_count": 20,
   "id": "1f60b44a-73a4-453a-bca7-975f8f9e4d27",
   "metadata": {},
   "outputs": [],
   "source": [
    "def data_loader(x,y,batch_size,device=device):\n",
    "    \n",
    "    x=x.to(device)\n",
    "    y=y.to(device)\n",
    "    combined=TensorDataset(x,y)\n",
    "    loader=DataLoader(combined,batch_size=batch_size,shuffle=False,drop_last=True)\n",
    "    return loader"
   ]
  },
  {
   "cell_type": "code",
   "execution_count": 120,
   "id": "b8c34487-dff5-42e2-8733-c860a1d6b25e",
   "metadata": {},
   "outputs": [],
   "source": [
    "'''Creating data loader'''\n",
    "train_loader = data_loader(x_train, y_train, batch_size = 8, device = device)\n",
    "test_loader = data_loader(x_test, y_test, batch_size = 8, device = device)"
   ]
  },
  {
   "cell_type": "code",
   "execution_count": 121,
   "id": "756ad326-59e8-43cd-a794-2f8af18269e0",
   "metadata": {},
   "outputs": [
    {
     "name": "stdout",
     "output_type": "stream",
     "text": [
      "torch.Size([8, 1, 28, 28])\n"
     ]
    }
   ],
   "source": [
    "for (x,y) in train_loader:\n",
    "    print(x.shape)\n",
    "    break"
   ]
  },
  {
   "cell_type": "code",
   "execution_count": 122,
   "id": "3306f855-06f2-4e33-8d63-2eb25f121169",
   "metadata": {},
   "outputs": [],
   "source": [
    "class LeNet5(nn.Module):\n",
    "\n",
    "    def __init__(self):\n",
    "        '''\n",
    "        nn.Conv2d(in_channels, out_channels, kernel_size, stride,padding,...)\n",
    "        torch.nn.AvgPool2d(kernel_size, stride=None, padding=0,...)\n",
    "        '''\n",
    "        \n",
    "        super(LeNet5, self).__init__()\n",
    "        \n",
    "        self.conv1 = nn.Conv2d(1, 6, 5, 1, 0)\n",
    "        self.pool1 = nn.AvgPool2d(2, 2, 0)\n",
    "        self.conv2 = nn.Conv2d(6, 16, 5, 1, 0)\n",
    "        self.pool2 = nn.AvgPool2d(2, 2, 0)\n",
    "        self.fc1 = nn.Linear(256, 120, bias = True)\n",
    "        self.fc2 = nn.Linear(120, 84, bias = True)\n",
    "        self.logits = nn.Linear(84, 10, bias = True)\n",
    "\n",
    "\n",
    "    def forward(self, x):\n",
    "        '''\n",
    "        Input shape : (batchsize, 28, 28)\n",
    "        Output shape : (batchsize, 10)\n",
    "        '''\n",
    "        bs = x.shape[0]\n",
    "        c = x.shape[1]\n",
    "        h = x.shape[2]\n",
    "        w = x.shape[3]\n",
    "        \n",
    "        \n",
    "        x = self.conv1(x)\n",
    "        x = F.relu(x)\n",
    "        x = self.pool1(x)\n",
    "        x = F.relu(x)\n",
    "        x = self.conv2(x)\n",
    "        x = F.relu(x)\n",
    "        x = self.pool2(x)\n",
    "        \n",
    "        '''\n",
    "        We need to flatten the input before passing it through the linear layers\n",
    "        '''\n",
    "        x = x.view(bs, -1)\n",
    "        \n",
    "        x = self.fc1(x)\n",
    "        x = F.relu(x)\n",
    "        x = self.fc2(x)\n",
    "        x = F.relu(x)\n",
    "        out = self.logits(x)\n",
    "\n",
    "        return out\n",
    "        "
   ]
  },
  {
   "cell_type": "code",
   "execution_count": 123,
   "id": "6d2d66aa-39bf-4a96-8134-7abb48ff4202",
   "metadata": {},
   "outputs": [],
   "source": [
    "model = LeNet5()\n",
    "model = model.to(device)"
   ]
  },
  {
   "cell_type": "code",
   "execution_count": 124,
   "id": "4e10c124-52f4-4a6f-b52f-67ce4217b019",
   "metadata": {},
   "outputs": [],
   "source": [
    "learning_rate = 0.001\n",
    "epochs = 30"
   ]
  },
  {
   "cell_type": "code",
   "execution_count": 125,
   "id": "6a3496f8-72c4-4089-8b33-95feac91a8e7",
   "metadata": {},
   "outputs": [],
   "source": [
    "loss = nn.CrossEntropyLoss()\n",
    "optimizer = optim.Adam(model.parameters(), lr = learning_rate)"
   ]
  },
  {
   "cell_type": "code",
   "execution_count": 126,
   "id": "3ce47f5b-6886-41ba-8882-bfdbd80be7b0",
   "metadata": {},
   "outputs": [],
   "source": [
    "def train(model, train_loader, test_loader, loss_fn, epochs, optimizer, device):\n",
    "    \"\"\"\n",
    "    Trains and validates a neural network model.\n",
    "\n",
    "    Parameters:\n",
    "        model (torch.nn.Module): The neural network to train.\n",
    "        train_loader (DataLoader): DataLoader for providing the training data.\n",
    "        test_loader (DataLoader): DataLoader for providing the validation data.\n",
    "        loss_fn (callable): The loss function.\n",
    "        epochs (int): Number of epochs to train the model.\n",
    "        optimizer (torch.optim.Optimizer): The optimizer for updating model weights.\n",
    "        device (torch.device): The device to run the training on (e.g., 'cuda' or 'cpu').\n",
    "\n",
    "    Returns:\n",
    "        tuple: A tuple containing the average training loss and accuracy.\n",
    "    \"\"\"\n",
    "    for epoch in range(epochs):\n",
    "        model.train()  # Training mode for Dropout, BatchNorm, etc.\n",
    "        total_loss, total_acc = 0, 0\n",
    "        \n",
    "        for x, y in tqdm(train_loader, desc=f\"Epoch {epoch + 1}/{epochs}\", unit=\"batch\"):\n",
    "            \n",
    "            x, y = x.to(device), y.to(device)\n",
    "            \n",
    "            pred = model(x)\n",
    "            loss = loss_fn(pred, y.long())\n",
    "\n",
    "            optimizer.zero_grad()\n",
    "            loss.backward()\n",
    "            optimizer.step()\n",
    "\n",
    "            total_loss += loss.item()\n",
    "            total_acc += (pred.argmax(1) == y).type(torch.float).mean().item()*100\n",
    "\n",
    "        avg_train_loss = total_loss / len(train_loader)\n",
    "        avg_train_acc = total_acc / len(train_loader)\n",
    "\n",
    "        \n",
    "        model.eval() \n",
    "        total_val_loss, total_val_acc = 0, 0\n",
    "        with torch.no_grad(): \n",
    "            for x, y in test_loader:\n",
    "                x, y = x.to(device), y.to(device)\n",
    "                pred = model(x)\n",
    "                total_val_loss += loss_fn(pred, y.long()).item()\n",
    "                total_val_acc += (pred.argmax(1) == y).type(torch.float).mean().item()*100\n",
    "\n",
    "        avg_val_loss = total_val_loss / len(test_loader)\n",
    "        avg_val_acc = total_val_acc / len(test_loader)\n",
    "\n",
    "        print(f\"Train Loss: {avg_train_loss:.4f}, Train Acc: {avg_train_acc:.4f}, Val Loss: {avg_val_loss:.4f}, Val Acc: {avg_val_acc:.4f}\")\n",
    "\n",
    "    return avg_train_loss, avg_train_acc\n"
   ]
  },
  {
   "cell_type": "code",
   "execution_count": 127,
   "id": "795b1c65-5fea-49aa-9e93-9e8e58aac57d",
   "metadata": {},
   "outputs": [
    {
     "name": "stderr",
     "output_type": "stream",
     "text": [
      "Epoch 1/30: 100%|███████████████████████████████████████████████████████████████| 7500/7500 [00:12<00:00, 594.75batch/s]\n"
     ]
    },
    {
     "name": "stdout",
     "output_type": "stream",
     "text": [
      "Train Loss: 0.7352, Train Acc: 71.4050, Val Loss: 0.6014, Val Acc: 76.2800\n"
     ]
    },
    {
     "name": "stderr",
     "output_type": "stream",
     "text": [
      "Epoch 2/30: 100%|███████████████████████████████████████████████████████████████| 7500/7500 [00:12<00:00, 601.23batch/s]\n"
     ]
    },
    {
     "name": "stdout",
     "output_type": "stream",
     "text": [
      "Train Loss: 0.5300, Train Acc: 80.2400, Val Loss: 0.5300, Val Acc: 80.2000\n"
     ]
    },
    {
     "name": "stderr",
     "output_type": "stream",
     "text": [
      "Epoch 3/30: 100%|███████████████████████████████████████████████████████████████| 7500/7500 [00:12<00:00, 591.25batch/s]\n"
     ]
    },
    {
     "name": "stdout",
     "output_type": "stream",
     "text": [
      "Train Loss: 0.4631, Train Acc: 82.6183, Val Loss: 0.5081, Val Acc: 81.4700\n"
     ]
    },
    {
     "name": "stderr",
     "output_type": "stream",
     "text": [
      "Epoch 4/30: 100%|███████████████████████████████████████████████████████████████| 7500/7500 [00:12<00:00, 581.41batch/s]\n"
     ]
    },
    {
     "name": "stdout",
     "output_type": "stream",
     "text": [
      "Train Loss: 0.4229, Train Acc: 84.2150, Val Loss: 0.4544, Val Acc: 83.2300\n"
     ]
    },
    {
     "name": "stderr",
     "output_type": "stream",
     "text": [
      "Epoch 5/30: 100%|███████████████████████████████████████████████████████████████| 7500/7500 [00:12<00:00, 584.94batch/s]\n"
     ]
    },
    {
     "name": "stdout",
     "output_type": "stream",
     "text": [
      "Train Loss: 0.3945, Train Acc: 85.2433, Val Loss: 0.4700, Val Acc: 82.8400\n"
     ]
    },
    {
     "name": "stderr",
     "output_type": "stream",
     "text": [
      "Epoch 6/30: 100%|███████████████████████████████████████████████████████████████| 7500/7500 [00:12<00:00, 602.29batch/s]\n"
     ]
    },
    {
     "name": "stdout",
     "output_type": "stream",
     "text": [
      "Train Loss: 0.3741, Train Acc: 85.9433, Val Loss: 0.4463, Val Acc: 84.1300\n"
     ]
    },
    {
     "name": "stderr",
     "output_type": "stream",
     "text": [
      "Epoch 7/30: 100%|███████████████████████████████████████████████████████████████| 7500/7500 [00:12<00:00, 603.15batch/s]\n"
     ]
    },
    {
     "name": "stdout",
     "output_type": "stream",
     "text": [
      "Train Loss: 0.3547, Train Acc: 86.6133, Val Loss: 0.4534, Val Acc: 84.0600\n"
     ]
    },
    {
     "name": "stderr",
     "output_type": "stream",
     "text": [
      "Epoch 8/30: 100%|███████████████████████████████████████████████████████████████| 7500/7500 [00:12<00:00, 591.17batch/s]\n"
     ]
    },
    {
     "name": "stdout",
     "output_type": "stream",
     "text": [
      "Train Loss: 0.3386, Train Acc: 87.1717, Val Loss: 0.4385, Val Acc: 84.8600\n"
     ]
    },
    {
     "name": "stderr",
     "output_type": "stream",
     "text": [
      "Epoch 9/30: 100%|███████████████████████████████████████████████████████████████| 7500/7500 [00:12<00:00, 590.80batch/s]\n"
     ]
    },
    {
     "name": "stdout",
     "output_type": "stream",
     "text": [
      "Train Loss: 0.3248, Train Acc: 87.7950, Val Loss: 0.4613, Val Acc: 84.8000\n"
     ]
    },
    {
     "name": "stderr",
     "output_type": "stream",
     "text": [
      "Epoch 10/30: 100%|██████████████████████████████████████████████████████████████| 7500/7500 [00:12<00:00, 579.71batch/s]\n"
     ]
    },
    {
     "name": "stdout",
     "output_type": "stream",
     "text": [
      "Train Loss: 0.3120, Train Acc: 88.0883, Val Loss: 0.4810, Val Acc: 84.6000\n"
     ]
    },
    {
     "name": "stderr",
     "output_type": "stream",
     "text": [
      "Epoch 11/30: 100%|██████████████████████████████████████████████████████████████| 7500/7500 [00:12<00:00, 581.15batch/s]\n"
     ]
    },
    {
     "name": "stdout",
     "output_type": "stream",
     "text": [
      "Train Loss: 0.3006, Train Acc: 88.4267, Val Loss: 0.4862, Val Acc: 84.9500\n"
     ]
    },
    {
     "name": "stderr",
     "output_type": "stream",
     "text": [
      "Epoch 12/30: 100%|██████████████████████████████████████████████████████████████| 7500/7500 [00:12<00:00, 580.34batch/s]\n"
     ]
    },
    {
     "name": "stdout",
     "output_type": "stream",
     "text": [
      "Train Loss: 0.2914, Train Acc: 88.8567, Val Loss: 0.5084, Val Acc: 85.2600\n"
     ]
    },
    {
     "name": "stderr",
     "output_type": "stream",
     "text": [
      "Epoch 13/30: 100%|██████████████████████████████████████████████████████████████| 7500/7500 [00:12<00:00, 583.84batch/s]\n"
     ]
    },
    {
     "name": "stdout",
     "output_type": "stream",
     "text": [
      "Train Loss: 0.2827, Train Acc: 89.1383, Val Loss: 0.5330, Val Acc: 85.2300\n"
     ]
    },
    {
     "name": "stderr",
     "output_type": "stream",
     "text": [
      "Epoch 14/30: 100%|██████████████████████████████████████████████████████████████| 7500/7500 [00:12<00:00, 587.04batch/s]\n"
     ]
    },
    {
     "name": "stdout",
     "output_type": "stream",
     "text": [
      "Train Loss: 0.2743, Train Acc: 89.4850, Val Loss: 0.5538, Val Acc: 84.1800\n"
     ]
    },
    {
     "name": "stderr",
     "output_type": "stream",
     "text": [
      "Epoch 15/30: 100%|██████████████████████████████████████████████████████████████| 7500/7500 [00:12<00:00, 590.94batch/s]\n"
     ]
    },
    {
     "name": "stdout",
     "output_type": "stream",
     "text": [
      "Train Loss: 0.2688, Train Acc: 89.7433, Val Loss: 0.5429, Val Acc: 85.3400\n"
     ]
    },
    {
     "name": "stderr",
     "output_type": "stream",
     "text": [
      "Epoch 16/30: 100%|██████████████████████████████████████████████████████████████| 7500/7500 [00:12<00:00, 589.69batch/s]\n"
     ]
    },
    {
     "name": "stdout",
     "output_type": "stream",
     "text": [
      "Train Loss: 0.2606, Train Acc: 89.9600, Val Loss: 0.5533, Val Acc: 85.2300\n"
     ]
    },
    {
     "name": "stderr",
     "output_type": "stream",
     "text": [
      "Epoch 17/30: 100%|██████████████████████████████████████████████████████████████| 7500/7500 [00:12<00:00, 595.52batch/s]\n"
     ]
    },
    {
     "name": "stdout",
     "output_type": "stream",
     "text": [
      "Train Loss: 0.2535, Train Acc: 90.4367, Val Loss: 0.5974, Val Acc: 84.6800\n"
     ]
    },
    {
     "name": "stderr",
     "output_type": "stream",
     "text": [
      "Epoch 18/30: 100%|██████████████████████████████████████████████████████████████| 7500/7500 [00:12<00:00, 583.08batch/s]\n"
     ]
    },
    {
     "name": "stdout",
     "output_type": "stream",
     "text": [
      "Train Loss: 0.2481, Train Acc: 90.2167, Val Loss: 0.5948, Val Acc: 85.0200\n"
     ]
    },
    {
     "name": "stderr",
     "output_type": "stream",
     "text": [
      "Epoch 19/30: 100%|██████████████████████████████████████████████████████████████| 7500/7500 [00:13<00:00, 573.79batch/s]\n"
     ]
    },
    {
     "name": "stdout",
     "output_type": "stream",
     "text": [
      "Train Loss: 0.2432, Train Acc: 90.6633, Val Loss: 0.5871, Val Acc: 84.7800\n"
     ]
    },
    {
     "name": "stderr",
     "output_type": "stream",
     "text": [
      "Epoch 20/30: 100%|██████████████████████████████████████████████████████████████| 7500/7500 [00:12<00:00, 578.77batch/s]\n"
     ]
    },
    {
     "name": "stdout",
     "output_type": "stream",
     "text": [
      "Train Loss: 0.2386, Train Acc: 90.7833, Val Loss: 0.6378, Val Acc: 84.6100\n"
     ]
    },
    {
     "name": "stderr",
     "output_type": "stream",
     "text": [
      "Epoch 21/30: 100%|██████████████████████████████████████████████████████████████| 7500/7500 [00:12<00:00, 584.01batch/s]\n"
     ]
    },
    {
     "name": "stdout",
     "output_type": "stream",
     "text": [
      "Train Loss: 0.2348, Train Acc: 90.9133, Val Loss: 0.6336, Val Acc: 85.1900\n"
     ]
    },
    {
     "name": "stderr",
     "output_type": "stream",
     "text": [
      "Epoch 22/30: 100%|██████████████████████████████████████████████████████████████| 7500/7500 [00:12<00:00, 587.30batch/s]\n"
     ]
    },
    {
     "name": "stdout",
     "output_type": "stream",
     "text": [
      "Train Loss: 0.2296, Train Acc: 91.1617, Val Loss: 0.6211, Val Acc: 84.7100\n"
     ]
    },
    {
     "name": "stderr",
     "output_type": "stream",
     "text": [
      "Epoch 23/30: 100%|██████████████████████████████████████████████████████████████| 7500/7500 [00:12<00:00, 583.74batch/s]\n"
     ]
    },
    {
     "name": "stdout",
     "output_type": "stream",
     "text": [
      "Train Loss: 0.2264, Train Acc: 91.3183, Val Loss: 0.6421, Val Acc: 85.1000\n"
     ]
    },
    {
     "name": "stderr",
     "output_type": "stream",
     "text": [
      "Epoch 24/30: 100%|██████████████████████████████████████████████████████████████| 7500/7500 [00:12<00:00, 596.99batch/s]\n"
     ]
    },
    {
     "name": "stdout",
     "output_type": "stream",
     "text": [
      "Train Loss: 0.2207, Train Acc: 91.4350, Val Loss: 0.6337, Val Acc: 84.5800\n"
     ]
    },
    {
     "name": "stderr",
     "output_type": "stream",
     "text": [
      "Epoch 25/30: 100%|██████████████████████████████████████████████████████████████| 7500/7500 [00:12<00:00, 588.20batch/s]\n"
     ]
    },
    {
     "name": "stdout",
     "output_type": "stream",
     "text": [
      "Train Loss: 0.2148, Train Acc: 91.8550, Val Loss: 0.6721, Val Acc: 85.0400\n"
     ]
    },
    {
     "name": "stderr",
     "output_type": "stream",
     "text": [
      "Epoch 26/30: 100%|██████████████████████████████████████████████████████████████| 7500/7500 [00:13<00:00, 573.57batch/s]\n"
     ]
    },
    {
     "name": "stdout",
     "output_type": "stream",
     "text": [
      "Train Loss: 0.2131, Train Acc: 91.8550, Val Loss: 0.6626, Val Acc: 84.8500\n"
     ]
    },
    {
     "name": "stderr",
     "output_type": "stream",
     "text": [
      "Epoch 27/30: 100%|██████████████████████████████████████████████████████████████| 7500/7500 [00:12<00:00, 588.59batch/s]\n"
     ]
    },
    {
     "name": "stdout",
     "output_type": "stream",
     "text": [
      "Train Loss: 0.2154, Train Acc: 91.7317, Val Loss: 0.6972, Val Acc: 84.4700\n"
     ]
    },
    {
     "name": "stderr",
     "output_type": "stream",
     "text": [
      "Epoch 28/30: 100%|██████████████████████████████████████████████████████████████| 7500/7500 [00:12<00:00, 592.46batch/s]\n"
     ]
    },
    {
     "name": "stdout",
     "output_type": "stream",
     "text": [
      "Train Loss: 0.2042, Train Acc: 92.1733, Val Loss: 0.7035, Val Acc: 85.1100\n"
     ]
    },
    {
     "name": "stderr",
     "output_type": "stream",
     "text": [
      "Epoch 29/30: 100%|██████████████████████████████████████████████████████████████| 7500/7500 [00:12<00:00, 589.93batch/s]\n"
     ]
    },
    {
     "name": "stdout",
     "output_type": "stream",
     "text": [
      "Train Loss: 0.2008, Train Acc: 92.2317, Val Loss: 0.7563, Val Acc: 84.4600\n"
     ]
    },
    {
     "name": "stderr",
     "output_type": "stream",
     "text": [
      "Epoch 30/30: 100%|██████████████████████████████████████████████████████████████| 7500/7500 [00:13<00:00, 576.84batch/s]\n"
     ]
    },
    {
     "name": "stdout",
     "output_type": "stream",
     "text": [
      "Train Loss: 0.2029, Train Acc: 92.2300, Val Loss: 0.7489, Val Acc: 84.8100\n",
      "Training loss: (0.20291823792932398, 92.23)\n"
     ]
    }
   ],
   "source": [
    "epoch_loss = train(model, train_loader, test_loader, loss, epochs, optimizer, device)\n",
    "print(f'Training loss: {epoch_loss}')"
   ]
  },
  {
   "cell_type": "code",
   "execution_count": null,
   "id": "ee3e2374-3aa3-40de-a6d8-d1e69f2bf25c",
   "metadata": {},
   "outputs": [],
   "source": []
  },
  {
   "cell_type": "code",
   "execution_count": null,
   "id": "fdade58d-c745-4307-9ad9-76488cf274b6",
   "metadata": {},
   "outputs": [],
   "source": []
  }
 ],
 "metadata": {
  "kernelspec": {
   "display_name": "Python 3 (ipykernel)",
   "language": "python",
   "name": "python3"
  },
  "language_info": {
   "codemirror_mode": {
    "name": "ipython",
    "version": 3
   },
   "file_extension": ".py",
   "mimetype": "text/x-python",
   "name": "python",
   "nbconvert_exporter": "python",
   "pygments_lexer": "ipython3",
   "version": "3.9.13"
  }
 },
 "nbformat": 4,
 "nbformat_minor": 5
}
